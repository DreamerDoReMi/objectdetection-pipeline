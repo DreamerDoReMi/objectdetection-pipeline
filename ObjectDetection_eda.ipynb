{
 "cells": [
  {
   "cell_type": "code",
   "execution_count": 23,
   "metadata": {},
   "outputs": [],
   "source": [
    "import os\n",
    "import cv2\n",
    "import csv\n",
    "import glob\n",
    "import pandas as pd\n",
    "import numpy as np\n",
    "import random\n",
    "import itertools\n",
    "from collections import Counter\n",
    "from math import ceil\n",
    "import matplotlib.pyplot as plt\n",
    "from tqdm.notebook import tqdm\n",
    "from IPython.core.interactiveshell import InteractiveShell\n",
    "InteractiveShell.ast_node_interactivity = \"all\""
   ]
  },
  {
   "cell_type": "code",
   "execution_count": 24,
   "metadata": {},
   "outputs": [
    {
     "data": {
      "text/html": [
       "<div>\n",
       "<style scoped>\n",
       "    .dataframe tbody tr th:only-of-type {\n",
       "        vertical-align: middle;\n",
       "    }\n",
       "\n",
       "    .dataframe tbody tr th {\n",
       "        vertical-align: top;\n",
       "    }\n",
       "\n",
       "    .dataframe thead th {\n",
       "        text-align: right;\n",
       "    }\n",
       "</style>\n",
       "<table border=\"1\" class=\"dataframe\">\n",
       "  <thead>\n",
       "    <tr style=\"text-align: right;\">\n",
       "      <th></th>\n",
       "      <th>image_id</th>\n",
       "      <th>width</th>\n",
       "      <th>height</th>\n",
       "      <th>bbox</th>\n",
       "      <th>source</th>\n",
       "    </tr>\n",
       "  </thead>\n",
       "  <tbody>\n",
       "    <tr>\n",
       "      <th>0</th>\n",
       "      <td>834</td>\n",
       "      <td>500</td>\n",
       "      <td>375</td>\n",
       "      <td>['304.0', '85.0', '65.0', '40.0']</td>\n",
       "      <td>cow</td>\n",
       "    </tr>\n",
       "    <tr>\n",
       "      <th>1</th>\n",
       "      <td>834</td>\n",
       "      <td>500</td>\n",
       "      <td>375</td>\n",
       "      <td>['249.0', '72.0', '64.0', '30.0']</td>\n",
       "      <td>cow</td>\n",
       "    </tr>\n",
       "    <tr>\n",
       "      <th>2</th>\n",
       "      <td>834</td>\n",
       "      <td>500</td>\n",
       "      <td>375</td>\n",
       "      <td>['10.0', '96.0', '90.0', '58.0']</td>\n",
       "      <td>cow</td>\n",
       "    </tr>\n",
       "    <tr>\n",
       "      <th>3</th>\n",
       "      <td>834</td>\n",
       "      <td>500</td>\n",
       "      <td>375</td>\n",
       "      <td>['69.0', '123.0', '108.0', '51.0']</td>\n",
       "      <td>cow</td>\n",
       "    </tr>\n",
       "    <tr>\n",
       "      <th>4</th>\n",
       "      <td>834</td>\n",
       "      <td>500</td>\n",
       "      <td>375</td>\n",
       "      <td>['64.0', '95.0', '81.0', '26.0']</td>\n",
       "      <td>cow</td>\n",
       "    </tr>\n",
       "  </tbody>\n",
       "</table>\n",
       "</div>"
      ],
      "text/plain": [
       "   image_id  width  height                                bbox source\n",
       "0       834    500     375   ['304.0', '85.0', '65.0', '40.0']    cow\n",
       "1       834    500     375   ['249.0', '72.0', '64.0', '30.0']    cow\n",
       "2       834    500     375    ['10.0', '96.0', '90.0', '58.0']    cow\n",
       "3       834    500     375  ['69.0', '123.0', '108.0', '51.0']    cow\n",
       "4       834    500     375    ['64.0', '95.0', '81.0', '26.0']    cow"
      ]
     },
     "execution_count": 24,
     "metadata": {},
     "output_type": "execute_result"
    }
   ],
   "source": [
    "import os \n",
    "import pandas as pd \n",
    "\n",
    "# path = '/home/dreamer/Private/Competition/Kaggle/GlobalWheaetDetection/dataset/train.csv'\n",
    "path = '/home/dreamer/workspace/RongWen/scripts/voc2007.csv'\n",
    "train_csv = pd.read_csv(path)\n",
    "train_csv.head()"
   ]
  },
  {
   "cell_type": "code",
   "execution_count": 25,
   "metadata": {},
   "outputs": [
    {
     "data": {
      "text/html": [
       "<div>\n",
       "<style scoped>\n",
       "    .dataframe tbody tr th:only-of-type {\n",
       "        vertical-align: middle;\n",
       "    }\n",
       "\n",
       "    .dataframe tbody tr th {\n",
       "        vertical-align: top;\n",
       "    }\n",
       "\n",
       "    .dataframe thead th {\n",
       "        text-align: right;\n",
       "    }\n",
       "</style>\n",
       "<table border=\"1\" class=\"dataframe\">\n",
       "  <thead>\n",
       "    <tr style=\"text-align: right;\">\n",
       "      <th></th>\n",
       "      <th>image_id</th>\n",
       "      <th>width</th>\n",
       "      <th>height</th>\n",
       "      <th>bbox</th>\n",
       "      <th>source</th>\n",
       "    </tr>\n",
       "  </thead>\n",
       "  <tbody>\n",
       "    <tr>\n",
       "      <th>30633</th>\n",
       "      <td>4846</td>\n",
       "      <td>500</td>\n",
       "      <td>338</td>\n",
       "      <td>['3.0', '58.0', '496.0', '280.0']</td>\n",
       "      <td>sofa</td>\n",
       "    </tr>\n",
       "    <tr>\n",
       "      <th>30634</th>\n",
       "      <td>4846</td>\n",
       "      <td>500</td>\n",
       "      <td>338</td>\n",
       "      <td>['137.0', '148.0', '363.0', '190.0']</td>\n",
       "      <td>person</td>\n",
       "    </tr>\n",
       "    <tr>\n",
       "      <th>30635</th>\n",
       "      <td>4846</td>\n",
       "      <td>500</td>\n",
       "      <td>338</td>\n",
       "      <td>['201.0', '3.0', '299.0', '239.0']</td>\n",
       "      <td>person</td>\n",
       "    </tr>\n",
       "    <tr>\n",
       "      <th>30636</th>\n",
       "      <td>4535</td>\n",
       "      <td>480</td>\n",
       "      <td>445</td>\n",
       "      <td>['80.0', '100.0', '321.0', '323.0']</td>\n",
       "      <td>horse</td>\n",
       "    </tr>\n",
       "    <tr>\n",
       "      <th>30637</th>\n",
       "      <td>4535</td>\n",
       "      <td>480</td>\n",
       "      <td>445</td>\n",
       "      <td>['215.0', '40.0', '109.0', '231.0']</td>\n",
       "      <td>person</td>\n",
       "    </tr>\n",
       "  </tbody>\n",
       "</table>\n",
       "</div>"
      ],
      "text/plain": [
       "       image_id  width  height                                  bbox  source\n",
       "30633      4846    500     338     ['3.0', '58.0', '496.0', '280.0']    sofa\n",
       "30634      4846    500     338  ['137.0', '148.0', '363.0', '190.0']  person\n",
       "30635      4846    500     338    ['201.0', '3.0', '299.0', '239.0']  person\n",
       "30636      4535    480     445   ['80.0', '100.0', '321.0', '323.0']   horse\n",
       "30637      4535    480     445   ['215.0', '40.0', '109.0', '231.0']  person"
      ]
     },
     "execution_count": 25,
     "metadata": {},
     "output_type": "execute_result"
    }
   ],
   "source": [
    "train_csv.tail()"
   ]
  },
  {
   "cell_type": "code",
   "execution_count": 26,
   "metadata": {},
   "outputs": [
    {
     "data": {
      "text/plain": [
       "array(['cow', 'person', 'dog', 'tvmonitor', 'car', 'sofa', 'bottle',\n",
       "       'chair', 'pottedplant', 'bicycle', 'train', 'sheep', 'aeroplane',\n",
       "       'bird', 'horse', 'diningtable', 'bus', 'boat', 'cat', 'motorbike'],\n",
       "      dtype=object)"
      ]
     },
     "execution_count": 26,
     "metadata": {},
     "output_type": "execute_result"
    }
   ],
   "source": [
    "train_csv['source'].unique()"
   ]
  },
  {
   "cell_type": "raw",
   "metadata": {},
   "source": [
    "# display data source distribution\n"
   ]
  },
  {
   "cell_type": "code",
   "execution_count": 27,
   "metadata": {},
   "outputs": [
    {
     "data": {
      "text/plain": [
       "<matplotlib.axes._subplots.AxesSubplot at 0x7f4293fe4210>"
      ]
     },
     "execution_count": 27,
     "metadata": {},
     "output_type": "execute_result"
    },
    {
     "data": {
      "text/plain": [
       "Text(0.5, 1.0, 'Distribution of Source')"
      ]
     },
     "execution_count": 27,
     "metadata": {},
     "output_type": "execute_result"
    },
    {
     "name": "stderr",
     "output_type": "stream",
     "text": [
      "No handles with labels found to put in legend.\n"
     ]
    },
    {
     "data": {
      "text/plain": [
       "<matplotlib.legend.Legend at 0x7f4296506090>"
      ]
     },
     "execution_count": 27,
     "metadata": {},
     "output_type": "execute_result"
    },
    {
     "data": {
      "image/png": "[encoded data removed]",
      "text/plain": [
       "<Figure size 1080x720 with 1 Axes>"
      ]
     },
     "metadata": {
      "needs_background": "light"
     },
     "output_type": "display_data"
    }
   ],
   "source": [
    "import matplotlib.pyplot as plt\n",
    "import seaborn as sns\n",
    "import warnings\n",
    "warnings.filterwarnings('ignore')\n",
    "plt.rcParams['figure.figsize'] = (18, 8)\n",
    "plt.rcParams['figure.figsize'] = (15, 10)\n",
    "sns.countplot(train_csv['source'], palette = 'hsv')\n",
    "plt.title('Distribution of Source', fontsize = 20)\n",
    "plt.legend()\n",
    "plt.show()"
   ]
  },
  {
   "cell_type": "code",
   "execution_count": 28,
   "metadata": {},
   "outputs": [
    {
     "data": {
      "text/plain": [
       "([<matplotlib.patches.Wedge at 0x7f4293577210>,\n",
       "  <matplotlib.patches.Wedge at 0x7f4293577990>,\n",
       "  <matplotlib.patches.Wedge at 0x7f429357f250>,\n",
       "  <matplotlib.patches.Wedge at 0x7f429357fb50>,\n",
       "  <matplotlib.patches.Wedge at 0x7f4293aa16d0>,\n",
       "  <matplotlib.patches.Wedge at 0x7f4293aa1fd0>,\n",
       "  <matplotlib.patches.Wedge at 0x7f4293aac610>,\n",
       "  <matplotlib.patches.Wedge at 0x7f4293aace90>,\n",
       "  <matplotlib.patches.Wedge at 0x7f4293aa13d0>,\n",
       "  <matplotlib.patches.Wedge at 0x7f4293aa1d10>,\n",
       "  <matplotlib.patches.Wedge at 0x7f4293550fd0>,\n",
       "  <matplotlib.patches.Wedge at 0x7f4293ac3f90>,\n",
       "  <matplotlib.patches.Wedge at 0x7f4293acf850>,\n",
       "  <matplotlib.patches.Wedge at 0x7f4293a5a110>,\n",
       "  <matplotlib.patches.Wedge at 0x7f4293a5a990>,\n",
       "  <matplotlib.patches.Wedge at 0x7f4293a64250>,\n",
       "  <matplotlib.patches.Wedge at 0x7f4293a64ad0>,\n",
       "  <matplotlib.patches.Wedge at 0x7f4293a71390>,\n",
       "  <matplotlib.patches.Wedge at 0x7f4293a71c10>,\n",
       "  <matplotlib.patches.Wedge at 0x7f4293a7c4d0>],\n",
       " [Text(0.5043377934975438, 0.9775701458463372, 'cow'),\n",
       "  Text(-0.8914146002209405, 0.6444998142070646, 'person'),\n",
       "  Text(-1.1499214302071443, 0.013442631824008868, 'dog'),\n",
       "  Text(-1.055415030843979, -0.4567265184643905, 'tvmonitor'),\n",
       "  Text(-1.0225254278781133, -0.8027712932975876, 'car'),\n",
       "  Text(-0.7969919635487224, -1.0270364209894174, 'sofa'),\n",
       "  Text(-0.5418687654609411, -1.181684493008957, 'bottle'),\n",
       "  Text(-0.28087025773611984, -1.1666670040415328, 'chair'),\n",
       "  Text(-0.08311316315885107, -1.1971182907756988, 'pottedplant'),\n",
       "  Text(0.11450519136234766, -1.1945244079344182, 'bicycle'),\n",
       "  Text(0.3071148424137866, -1.1600346863646602, 'train'),\n",
       "  Text(0.4868396229037978, -1.0968077231542857, 'sheep'),\n",
       "  Text(0.6509882123253468, -1.008074574331408, 'aeroplane'),\n",
       "  Text(0.7965474203107237, -0.8975033187661934, 'bird'),\n",
       "  Text(0.9177840258582377, -0.773092802889437, 'horse'),\n",
       "  Text(1.0156151833095008, -0.6391602298572785, 'diningtable'),\n",
       "  Text(1.0918602245757747, -0.49783656955806244, 'bus'),\n",
       "  Text(1.1473348047266803, -0.3516004065168167, 'boat'),\n",
       "  Text(1.1826372095917594, -0.20339427349120948, 'cat'),\n",
       "  Text(1.1982549940290104, -0.06469133855885843, 'motorbike')],\n",
       " [Text(0.27509334190775114, 0.5332200795525475, '34.84%'),\n",
       "  Text(-0.48622614557505844, 0.3515453532038534, '10.40%'),\n",
       "  Text(-0.6499555909866467, 0.007598009291831098, '9.16%'),\n",
       "  Text(-0.5965389304770314, -0.25814977130595984, '4.21%'),\n",
       "  Text(-0.629246417155762, -0.4940131035677462, '3.97%'),\n",
       "  Text(-0.49045659295305993, -0.6320224129165646, '3.84%'),\n",
       "  Text(-0.3334577018221176, -0.7271904572362811, '3.49%'),\n",
       "  Text(-0.1638409836794032, -0.6805557523575607, '2.68%'),\n",
       "  Text(-0.048482678509329795, -0.6983190029524908, '2.63%'),\n",
       "  Text(0.06679469496136946, -0.6968059046284105, '2.61%'),\n",
       "  Text(0.1791503247413755, -0.676686900379385, '2.58%'),\n",
       "  Text(0.28398978002721537, -0.6398045051733333, '2.48%'),\n",
       "  Text(0.3797431238564522, -0.5880435016933213, '2.48%'),\n",
       "  Text(0.46465266184792214, -0.5235436026136128, '2.38%'),\n",
       "  Text(0.535374015083972, -0.4509708016855049, '2.24%'),\n",
       "  Text(0.5924421902638755, -0.3728434674167458, '2.17%'),\n",
       "  Text(0.6369184643358684, -0.2904046655755364, '2.10%'),\n",
       "  Text(0.6692786360905634, -0.2051002371348097, '2.06%'),\n",
       "  Text(0.6898717055951931, -0.11864665953653884, '1.99%'),\n",
       "  Text(0.698982079850256, -0.03773661415933409, '1.72%')])"
      ]
     },
     "execution_count": 28,
     "metadata": {},
     "output_type": "execute_result"
    },
    {
     "data": {
      "text/plain": [
       "Text(0.5, 1.0, 'Source')"
      ]
     },
     "execution_count": 28,
     "metadata": {},
     "output_type": "execute_result"
    },
    {
     "data": {
      "text/plain": [
       "(-1.25, 1.25, -1.25, 1.25)"
      ]
     },
     "execution_count": 28,
     "metadata": {},
     "output_type": "execute_result"
    },
    {
     "data": {
      "text/plain": [
       "<matplotlib.legend.Legend at 0x7f42937d13d0>"
      ]
     },
     "execution_count": 28,
     "metadata": {},
     "output_type": "execute_result"
    },
    {
     "data": {
      "image/png": "[encoded data removed]",
      "text/plain": [
       "<Figure size 504x504 with 1 Axes>"
      ]
     },
     "metadata": {},
     "output_type": "display_data"
    }
   ],
   "source": [
    "# the length of labels must be eqaul to the length of explode\n",
    "labels = list(train_csv['source'].unique())\n",
    "plt.rcParams['figure.figsize'] = (7, 7)\n",
    "plt.pie(train_csv['source'].value_counts(),labels=labels,explode = [0.0,0.0,0.05,0.05,0.2,0.2,0.2] +  [0.1]*13, autopct = '%.2f%%')\n",
    "plt.title('Source', fontsize = 21)\n",
    "plt.axis('off')\n",
    "plt.legend(loc='lower center', bbox_to_anchor=(1, 1))\n",
    "plt.show()"
   ]
  },
  {
   "cell_type": "code",
   "execution_count": 29,
   "metadata": {},
   "outputs": [
    {
     "data": {
      "text/html": [
       "<div>\n",
       "<style scoped>\n",
       "    .dataframe tbody tr th:only-of-type {\n",
       "        vertical-align: middle;\n",
       "    }\n",
       "\n",
       "    .dataframe tbody tr th {\n",
       "        vertical-align: top;\n",
       "    }\n",
       "\n",
       "    .dataframe thead th {\n",
       "        text-align: right;\n",
       "    }\n",
       "</style>\n",
       "<table border=\"1\" class=\"dataframe\">\n",
       "  <thead>\n",
       "    <tr style=\"text-align: right;\">\n",
       "      <th></th>\n",
       "      <th>image_id</th>\n",
       "      <th>width</th>\n",
       "      <th>height</th>\n",
       "      <th>bbox</th>\n",
       "      <th>source</th>\n",
       "      <th>bbox_area</th>\n",
       "    </tr>\n",
       "  </thead>\n",
       "  <tbody>\n",
       "    <tr>\n",
       "      <th>0</th>\n",
       "      <td>834</td>\n",
       "      <td>500</td>\n",
       "      <td>375</td>\n",
       "      <td>['304.0', '85.0', '65.0', '40.0']</td>\n",
       "      <td>cow</td>\n",
       "      <td>2600.0</td>\n",
       "    </tr>\n",
       "    <tr>\n",
       "      <th>1</th>\n",
       "      <td>834</td>\n",
       "      <td>500</td>\n",
       "      <td>375</td>\n",
       "      <td>['249.0', '72.0', '64.0', '30.0']</td>\n",
       "      <td>cow</td>\n",
       "      <td>1920.0</td>\n",
       "    </tr>\n",
       "    <tr>\n",
       "      <th>2</th>\n",
       "      <td>834</td>\n",
       "      <td>500</td>\n",
       "      <td>375</td>\n",
       "      <td>['10.0', '96.0', '90.0', '58.0']</td>\n",
       "      <td>cow</td>\n",
       "      <td>5220.0</td>\n",
       "    </tr>\n",
       "    <tr>\n",
       "      <th>3</th>\n",
       "      <td>834</td>\n",
       "      <td>500</td>\n",
       "      <td>375</td>\n",
       "      <td>['69.0', '123.0', '108.0', '51.0']</td>\n",
       "      <td>cow</td>\n",
       "      <td>5508.0</td>\n",
       "    </tr>\n",
       "    <tr>\n",
       "      <th>4</th>\n",
       "      <td>834</td>\n",
       "      <td>500</td>\n",
       "      <td>375</td>\n",
       "      <td>['64.0', '95.0', '81.0', '26.0']</td>\n",
       "      <td>cow</td>\n",
       "      <td>2106.0</td>\n",
       "    </tr>\n",
       "  </tbody>\n",
       "</table>\n",
       "</div>"
      ],
      "text/plain": [
       "   image_id  width  height                                bbox source  \\\n",
       "0       834    500     375   ['304.0', '85.0', '65.0', '40.0']    cow   \n",
       "1       834    500     375   ['249.0', '72.0', '64.0', '30.0']    cow   \n",
       "2       834    500     375    ['10.0', '96.0', '90.0', '58.0']    cow   \n",
       "3       834    500     375  ['69.0', '123.0', '108.0', '51.0']    cow   \n",
       "4       834    500     375    ['64.0', '95.0', '81.0', '26.0']    cow   \n",
       "\n",
       "   bbox_area  \n",
       "0     2600.0  \n",
       "1     1920.0  \n",
       "2     5220.0  \n",
       "3     5508.0  \n",
       "4     2106.0  "
      ]
     },
     "execution_count": 29,
     "metadata": {},
     "output_type": "execute_result"
    }
   ],
   "source": [
    "# generating bbox area \n",
    "from ast import literal_eval\n",
    "\n",
    "def get_bbox_area(bbox):\n",
    "    bbox = literal_eval(bbox)\n",
    "    return float(bbox[2]) * float(bbox[3])\n",
    "train_csv['bbox_area'] = train_csv['bbox'].apply(get_bbox_area)\n",
    "# train_csv['bbox_area'].value_counts().hist(bins=33)\n",
    "train_csv.head()"
   ]
  },
  {
   "cell_type": "code",
   "execution_count": 30,
   "metadata": {},
   "outputs": [
    {
     "data": {
      "text/html": [
       "<div>\n",
       "<style scoped>\n",
       "    .dataframe tbody tr th:only-of-type {\n",
       "        vertical-align: middle;\n",
       "    }\n",
       "\n",
       "    .dataframe tbody tr th {\n",
       "        vertical-align: top;\n",
       "    }\n",
       "\n",
       "    .dataframe thead th {\n",
       "        text-align: right;\n",
       "    }\n",
       "</style>\n",
       "<table border=\"1\" class=\"dataframe\">\n",
       "  <thead>\n",
       "    <tr style=\"text-align: right;\">\n",
       "      <th></th>\n",
       "      <th>image_id</th>\n",
       "      <th>width</th>\n",
       "      <th>height</th>\n",
       "      <th>bbox</th>\n",
       "      <th>source</th>\n",
       "      <th>bbox_area</th>\n",
       "      <th>image_area</th>\n",
       "    </tr>\n",
       "  </thead>\n",
       "  <tbody>\n",
       "    <tr>\n",
       "      <th>0</th>\n",
       "      <td>834</td>\n",
       "      <td>500</td>\n",
       "      <td>375</td>\n",
       "      <td>['304.0', '85.0', '65.0', '40.0']</td>\n",
       "      <td>cow</td>\n",
       "      <td>2600.0</td>\n",
       "      <td>187500.0</td>\n",
       "    </tr>\n",
       "    <tr>\n",
       "      <th>1</th>\n",
       "      <td>834</td>\n",
       "      <td>500</td>\n",
       "      <td>375</td>\n",
       "      <td>['249.0', '72.0', '64.0', '30.0']</td>\n",
       "      <td>cow</td>\n",
       "      <td>1920.0</td>\n",
       "      <td>187500.0</td>\n",
       "    </tr>\n",
       "    <tr>\n",
       "      <th>2</th>\n",
       "      <td>834</td>\n",
       "      <td>500</td>\n",
       "      <td>375</td>\n",
       "      <td>['10.0', '96.0', '90.0', '58.0']</td>\n",
       "      <td>cow</td>\n",
       "      <td>5220.0</td>\n",
       "      <td>187500.0</td>\n",
       "    </tr>\n",
       "    <tr>\n",
       "      <th>3</th>\n",
       "      <td>834</td>\n",
       "      <td>500</td>\n",
       "      <td>375</td>\n",
       "      <td>['69.0', '123.0', '108.0', '51.0']</td>\n",
       "      <td>cow</td>\n",
       "      <td>5508.0</td>\n",
       "      <td>187500.0</td>\n",
       "    </tr>\n",
       "    <tr>\n",
       "      <th>4</th>\n",
       "      <td>834</td>\n",
       "      <td>500</td>\n",
       "      <td>375</td>\n",
       "      <td>['64.0', '95.0', '81.0', '26.0']</td>\n",
       "      <td>cow</td>\n",
       "      <td>2106.0</td>\n",
       "      <td>187500.0</td>\n",
       "    </tr>\n",
       "  </tbody>\n",
       "</table>\n",
       "</div>"
      ],
      "text/plain": [
       "   image_id  width  height                                bbox source  \\\n",
       "0       834    500     375   ['304.0', '85.0', '65.0', '40.0']    cow   \n",
       "1       834    500     375   ['249.0', '72.0', '64.0', '30.0']    cow   \n",
       "2       834    500     375    ['10.0', '96.0', '90.0', '58.0']    cow   \n",
       "3       834    500     375  ['69.0', '123.0', '108.0', '51.0']    cow   \n",
       "4       834    500     375    ['64.0', '95.0', '81.0', '26.0']    cow   \n",
       "\n",
       "   bbox_area  image_area  \n",
       "0     2600.0    187500.0  \n",
       "1     1920.0    187500.0  \n",
       "2     5220.0    187500.0  \n",
       "3     5508.0    187500.0  \n",
       "4     2106.0    187500.0  "
      ]
     },
     "execution_count": 30,
     "metadata": {},
     "output_type": "execute_result"
    }
   ],
   "source": [
    "# get image area \n",
    "def get_image_area(width, height):\n",
    "    return float(width) * float(height)\n",
    "  \n",
    " \n",
    "train_csv['image_area'] = train_csv.apply(lambda row: get_image_area(row['width'], row['height']), axis=1)\n",
    "train_csv.head()"
   ]
  },
  {
   "cell_type": "code",
   "execution_count": 31,
   "metadata": {},
   "outputs": [
    {
     "data": {
      "text/html": [
       "<div>\n",
       "<style scoped>\n",
       "    .dataframe tbody tr th:only-of-type {\n",
       "        vertical-align: middle;\n",
       "    }\n",
       "\n",
       "    .dataframe tbody tr th {\n",
       "        vertical-align: top;\n",
       "    }\n",
       "\n",
       "    .dataframe thead th {\n",
       "        text-align: right;\n",
       "    }\n",
       "</style>\n",
       "<table border=\"1\" class=\"dataframe\">\n",
       "  <thead>\n",
       "    <tr style=\"text-align: right;\">\n",
       "      <th></th>\n",
       "      <th>image_id</th>\n",
       "      <th>width</th>\n",
       "      <th>height</th>\n",
       "      <th>bbox</th>\n",
       "      <th>source</th>\n",
       "      <th>bbox_area</th>\n",
       "      <th>image_area</th>\n",
       "      <th>bbox_ratio</th>\n",
       "    </tr>\n",
       "  </thead>\n",
       "  <tbody>\n",
       "    <tr>\n",
       "      <th>0</th>\n",
       "      <td>834</td>\n",
       "      <td>500</td>\n",
       "      <td>375</td>\n",
       "      <td>['304.0', '85.0', '65.0', '40.0']</td>\n",
       "      <td>cow</td>\n",
       "      <td>2600.0</td>\n",
       "      <td>187500.0</td>\n",
       "      <td>0.013867</td>\n",
       "    </tr>\n",
       "    <tr>\n",
       "      <th>1</th>\n",
       "      <td>834</td>\n",
       "      <td>500</td>\n",
       "      <td>375</td>\n",
       "      <td>['249.0', '72.0', '64.0', '30.0']</td>\n",
       "      <td>cow</td>\n",
       "      <td>1920.0</td>\n",
       "      <td>187500.0</td>\n",
       "      <td>0.010240</td>\n",
       "    </tr>\n",
       "    <tr>\n",
       "      <th>2</th>\n",
       "      <td>834</td>\n",
       "      <td>500</td>\n",
       "      <td>375</td>\n",
       "      <td>['10.0', '96.0', '90.0', '58.0']</td>\n",
       "      <td>cow</td>\n",
       "      <td>5220.0</td>\n",
       "      <td>187500.0</td>\n",
       "      <td>0.027840</td>\n",
       "    </tr>\n",
       "    <tr>\n",
       "      <th>3</th>\n",
       "      <td>834</td>\n",
       "      <td>500</td>\n",
       "      <td>375</td>\n",
       "      <td>['69.0', '123.0', '108.0', '51.0']</td>\n",
       "      <td>cow</td>\n",
       "      <td>5508.0</td>\n",
       "      <td>187500.0</td>\n",
       "      <td>0.029376</td>\n",
       "    </tr>\n",
       "    <tr>\n",
       "      <th>4</th>\n",
       "      <td>834</td>\n",
       "      <td>500</td>\n",
       "      <td>375</td>\n",
       "      <td>['64.0', '95.0', '81.0', '26.0']</td>\n",
       "      <td>cow</td>\n",
       "      <td>2106.0</td>\n",
       "      <td>187500.0</td>\n",
       "      <td>0.011232</td>\n",
       "    </tr>\n",
       "  </tbody>\n",
       "</table>\n",
       "</div>"
      ],
      "text/plain": [
       "   image_id  width  height                                bbox source  \\\n",
       "0       834    500     375   ['304.0', '85.0', '65.0', '40.0']    cow   \n",
       "1       834    500     375   ['249.0', '72.0', '64.0', '30.0']    cow   \n",
       "2       834    500     375    ['10.0', '96.0', '90.0', '58.0']    cow   \n",
       "3       834    500     375  ['69.0', '123.0', '108.0', '51.0']    cow   \n",
       "4       834    500     375    ['64.0', '95.0', '81.0', '26.0']    cow   \n",
       "\n",
       "   bbox_area  image_area  bbox_ratio  \n",
       "0     2600.0    187500.0    0.013867  \n",
       "1     1920.0    187500.0    0.010240  \n",
       "2     5220.0    187500.0    0.027840  \n",
       "3     5508.0    187500.0    0.029376  \n",
       "4     2106.0    187500.0    0.011232  "
      ]
     },
     "execution_count": 31,
     "metadata": {},
     "output_type": "execute_result"
    }
   ],
   "source": [
    "def get_bbox_ratio(bbox_area, image_area):\n",
    "    return float(bbox_area) / float(image_area)\n",
    "  \n",
    " \n",
    "train_csv['bbox_ratio'] = train_csv.apply(lambda row: get_bbox_ratio(row['bbox_area'], row['image_area']), axis=1)\n",
    "train_csv.head()"
   ]
  },
  {
   "cell_type": "code",
   "execution_count": 32,
   "metadata": {},
   "outputs": [
    {
     "data": {
      "text/plain": [
       "<matplotlib.axes._subplots.AxesSubplot at 0x7f42939abbd0>"
      ]
     },
     "execution_count": 32,
     "metadata": {},
     "output_type": "execute_result"
    },
    {
     "data": {
      "image/png": "[encoded data removed]",
      "text/plain": [
       "<Figure size 504x504 with 1 Axes>"
      ]
     },
     "metadata": {
      "needs_background": "light"
     },
     "output_type": "display_data"
    }
   ],
   "source": [
    "train_csv['bbox_ratio'].value_counts().hist()"
   ]
  },
  {
   "cell_type": "code",
   "execution_count": 35,
   "metadata": {
    "collapsed": true
   },
   "outputs": [
    {
     "data": {
      "text/html": [
       "<div>\n",
       "<style scoped>\n",
       "    .dataframe tbody tr th:only-of-type {\n",
       "        vertical-align: middle;\n",
       "    }\n",
       "\n",
       "    .dataframe tbody tr th {\n",
       "        vertical-align: top;\n",
       "    }\n",
       "\n",
       "    .dataframe thead th {\n",
       "        text-align: right;\n",
       "    }\n",
       "</style>\n",
       "<table border=\"1\" class=\"dataframe\">\n",
       "  <thead>\n",
       "    <tr style=\"text-align: right;\">\n",
       "      <th></th>\n",
       "      <th>image_id</th>\n",
       "      <th>width</th>\n",
       "      <th>height</th>\n",
       "      <th>bbox</th>\n",
       "      <th>source</th>\n",
       "      <th>bbox_area</th>\n",
       "      <th>image_area</th>\n",
       "      <th>bbox_ratio</th>\n",
       "      <th>box_width_ratio</th>\n",
       "      <th>box_height_ratio</th>\n",
       "    </tr>\n",
       "  </thead>\n",
       "  <tbody>\n",
       "    <tr>\n",
       "      <th>0</th>\n",
       "      <td>834</td>\n",
       "      <td>500</td>\n",
       "      <td>375</td>\n",
       "      <td>['304.0', '85.0', '65.0', '40.0']</td>\n",
       "      <td>cow</td>\n",
       "      <td>2600.0</td>\n",
       "      <td>187500.0</td>\n",
       "      <td>0.013867</td>\n",
       "      <td>0.130</td>\n",
       "      <td>0.106667</td>\n",
       "    </tr>\n",
       "    <tr>\n",
       "      <th>1</th>\n",
       "      <td>834</td>\n",
       "      <td>500</td>\n",
       "      <td>375</td>\n",
       "      <td>['249.0', '72.0', '64.0', '30.0']</td>\n",
       "      <td>cow</td>\n",
       "      <td>1920.0</td>\n",
       "      <td>187500.0</td>\n",
       "      <td>0.010240</td>\n",
       "      <td>0.128</td>\n",
       "      <td>0.080000</td>\n",
       "    </tr>\n",
       "    <tr>\n",
       "      <th>2</th>\n",
       "      <td>834</td>\n",
       "      <td>500</td>\n",
       "      <td>375</td>\n",
       "      <td>['10.0', '96.0', '90.0', '58.0']</td>\n",
       "      <td>cow</td>\n",
       "      <td>5220.0</td>\n",
       "      <td>187500.0</td>\n",
       "      <td>0.027840</td>\n",
       "      <td>0.180</td>\n",
       "      <td>0.154667</td>\n",
       "    </tr>\n",
       "    <tr>\n",
       "      <th>3</th>\n",
       "      <td>834</td>\n",
       "      <td>500</td>\n",
       "      <td>375</td>\n",
       "      <td>['69.0', '123.0', '108.0', '51.0']</td>\n",
       "      <td>cow</td>\n",
       "      <td>5508.0</td>\n",
       "      <td>187500.0</td>\n",
       "      <td>0.029376</td>\n",
       "      <td>0.216</td>\n",
       "      <td>0.136000</td>\n",
       "    </tr>\n",
       "    <tr>\n",
       "      <th>4</th>\n",
       "      <td>834</td>\n",
       "      <td>500</td>\n",
       "      <td>375</td>\n",
       "      <td>['64.0', '95.0', '81.0', '26.0']</td>\n",
       "      <td>cow</td>\n",
       "      <td>2106.0</td>\n",
       "      <td>187500.0</td>\n",
       "      <td>0.011232</td>\n",
       "      <td>0.162</td>\n",
       "      <td>0.069333</td>\n",
       "    </tr>\n",
       "  </tbody>\n",
       "</table>\n",
       "</div>"
      ],
      "text/plain": [
       "   image_id  width  height                                bbox source  \\\n",
       "0       834    500     375   ['304.0', '85.0', '65.0', '40.0']    cow   \n",
       "1       834    500     375   ['249.0', '72.0', '64.0', '30.0']    cow   \n",
       "2       834    500     375    ['10.0', '96.0', '90.0', '58.0']    cow   \n",
       "3       834    500     375  ['69.0', '123.0', '108.0', '51.0']    cow   \n",
       "4       834    500     375    ['64.0', '95.0', '81.0', '26.0']    cow   \n",
       "\n",
       "   bbox_area  image_area  bbox_ratio  box_width_ratio  box_height_ratio  \n",
       "0     2600.0    187500.0    0.013867            0.130          0.106667  \n",
       "1     1920.0    187500.0    0.010240            0.128          0.080000  \n",
       "2     5220.0    187500.0    0.027840            0.180          0.154667  \n",
       "3     5508.0    187500.0    0.029376            0.216          0.136000  \n",
       "4     2106.0    187500.0    0.011232            0.162          0.069333  "
      ]
     },
     "execution_count": 35,
     "metadata": {},
     "output_type": "execute_result"
    }
   ],
   "source": [
    "# def get_bbox_area(bbox):\n",
    "#     bbox = literal_eval(bbox)\n",
    "#     return float(bbox[2]) * float(bbox[3])\n",
    "# train_csv['bbox_area'] = train_csv['bbox'].apply(get_bbox_area)\n",
    "\n",
    "# get image area \n",
    "def get_bbox_imsize_area(bbox, imsize, index):\n",
    "    bbox = literal_eval(bbox)\n",
    "    return float(bbox[index]) /float(imsize)\n",
    "  \n",
    "train_csv['box_width_ratio'] = train_csv.apply(lambda row: get_bbox_imsize_area(row['bbox'], row['width'], 2), axis=1)\n",
    "\n",
    "train_csv['box_height_ratio'] = train_csv.apply(lambda row: get_bbox_imsize_area(row['bbox'], row['height'], 3), axis=1)\n",
    "\n",
    "\n",
    "\n",
    "# train_csv['bbox_area'].value_counts().hist(bins=33)\n",
    "train_csv.head()"
   ]
  },
  {
   "cell_type": "markdown",
   "metadata": {},
   "source": [
    "## scatter img to show the bbox width, bbox height ratio distribution to help setting anchor size"
   ]
  },
  {
   "cell_type": "code",
   "execution_count": 36,
   "metadata": {
    "scrolled": true
   },
   "outputs": [
    {
     "data": {
      "text/plain": [
       "<matplotlib.axes._subplots.AxesSubplot at 0x7f4291b395d0>"
      ]
     },
     "execution_count": 36,
     "metadata": {},
     "output_type": "execute_result"
    },
    {
     "data": {
      "image/png": "[encoded data removed]",
      "text/plain": [
       "<Figure size 504x504 with 1 Axes>"
      ]
     },
     "metadata": {
      "needs_background": "light"
     },
     "output_type": "display_data"
    }
   ],
   "source": [
    "train_csv.plot.scatter(x='box_width_ratio', y='box_height_ratio')\n",
    "plt.show()"
   ]
  },
  {
   "cell_type": "code",
   "execution_count": 21,
   "metadata": {},
   "outputs": [
    {
     "data": {
      "text/plain": [
       "<matplotlib.axes._subplots.AxesSubplot at 0x7f642068a6d0>"
      ]
     },
     "execution_count": 21,
     "metadata": {},
     "output_type": "execute_result"
    },
    {
     "data": {
      "image/png": "[encoded data removed]",
      "text/plain": [
       "<Figure size 504x504 with 1 Axes>"
      ]
     },
     "metadata": {
      "needs_background": "light"
     },
     "output_type": "display_data"
    }
   ],
   "source": [
    "# display the ratio distribution in dataset\n",
    "sns.distplot(train_csv['bbox_ratio'])"
   ]
  },
  {
   "cell_type": "code",
   "execution_count": 25,
   "metadata": {},
   "outputs": [
    {
     "data": {
      "text/plain": [
       "<matplotlib.axes._subplots.AxesSubplot at 0x7f642141e210>"
      ]
     },
     "execution_count": 25,
     "metadata": {},
     "output_type": "execute_result"
    },
    {
     "data": {
      "image/png": "[encoded data removed]",
      "text/plain": [
       "<Figure size 504x504 with 1 Axes>"
      ]
     },
     "metadata": {
      "needs_background": "light"
     },
     "output_type": "display_data"
    }
   ],
   "source": [
    "# display how many bbox in each image \n",
    "\n",
    "sns.distplot(train_csv['image_id'].value_counts())"
   ]
  },
  {
   "cell_type": "code",
   "execution_count": 28,
   "metadata": {},
   "outputs": [
    {
     "data": {
      "text/plain": [
       "<bound method DataFrame.info of        image_id  width  height                                  bbox  source  \\\n",
       "0           834    500     375     ['304.0', '85.0', '65.0', '40.0']     cow   \n",
       "1           834    500     375     ['249.0', '72.0', '64.0', '30.0']     cow   \n",
       "2           834    500     375      ['10.0', '96.0', '90.0', '58.0']     cow   \n",
       "3           834    500     375    ['69.0', '123.0', '108.0', '51.0']     cow   \n",
       "4           834    500     375      ['64.0', '95.0', '81.0', '26.0']     cow   \n",
       "...         ...    ...     ...                                   ...     ...   \n",
       "30633      4846    500     338     ['3.0', '58.0', '496.0', '280.0']    sofa   \n",
       "30634      4846    500     338  ['137.0', '148.0', '363.0', '190.0']  person   \n",
       "30635      4846    500     338    ['201.0', '3.0', '299.0', '239.0']  person   \n",
       "30636      4535    480     445   ['80.0', '100.0', '321.0', '323.0']   horse   \n",
       "30637      4535    480     445   ['215.0', '40.0', '109.0', '231.0']  person   \n",
       "\n",
       "       bbox_area  image_area  bbox_ratio  \n",
       "0         2600.0    187500.0    0.013867  \n",
       "1         1920.0    187500.0    0.010240  \n",
       "2         5220.0    187500.0    0.027840  \n",
       "3         5508.0    187500.0    0.029376  \n",
       "4         2106.0    187500.0    0.011232  \n",
       "...          ...         ...         ...  \n",
       "30633   138880.0    169000.0    0.821775  \n",
       "30634    68970.0    169000.0    0.408107  \n",
       "30635    71461.0    169000.0    0.422846  \n",
       "30636   103683.0    213600.0    0.485407  \n",
       "30637    25179.0    213600.0    0.117879  \n",
       "\n",
       "[30638 rows x 8 columns]>"
      ]
     },
     "execution_count": 28,
     "metadata": {},
     "output_type": "execute_result"
    }
   ],
   "source": [
    "train_csv.info"
   ]
  },
  {
   "cell_type": "code",
   "execution_count": 30,
   "metadata": {},
   "outputs": [
    {
     "data": {
      "text/html": [
       "<div>\n",
       "<style scoped>\n",
       "    .dataframe tbody tr th:only-of-type {\n",
       "        vertical-align: middle;\n",
       "    }\n",
       "\n",
       "    .dataframe tbody tr th {\n",
       "        vertical-align: top;\n",
       "    }\n",
       "\n",
       "    .dataframe thead th {\n",
       "        text-align: right;\n",
       "    }\n",
       "</style>\n",
       "<table border=\"1\" class=\"dataframe\">\n",
       "  <thead>\n",
       "    <tr style=\"text-align: right;\">\n",
       "      <th></th>\n",
       "      <th>image_id</th>\n",
       "      <th>width</th>\n",
       "      <th>height</th>\n",
       "      <th>bbox</th>\n",
       "      <th>source</th>\n",
       "      <th>bbox_area</th>\n",
       "      <th>image_area</th>\n",
       "      <th>bbox_ratio</th>\n",
       "    </tr>\n",
       "  </thead>\n",
       "  <tbody>\n",
       "    <tr>\n",
       "      <th>0</th>\n",
       "      <td>834.jpg</td>\n",
       "      <td>500</td>\n",
       "      <td>375</td>\n",
       "      <td>['304.0', '85.0', '65.0', '40.0']</td>\n",
       "      <td>cow</td>\n",
       "      <td>2600.0</td>\n",
       "      <td>187500.0</td>\n",
       "      <td>0.013867</td>\n",
       "    </tr>\n",
       "    <tr>\n",
       "      <th>1</th>\n",
       "      <td>834.jpg</td>\n",
       "      <td>500</td>\n",
       "      <td>375</td>\n",
       "      <td>['249.0', '72.0', '64.0', '30.0']</td>\n",
       "      <td>cow</td>\n",
       "      <td>1920.0</td>\n",
       "      <td>187500.0</td>\n",
       "      <td>0.010240</td>\n",
       "    </tr>\n",
       "    <tr>\n",
       "      <th>2</th>\n",
       "      <td>834.jpg</td>\n",
       "      <td>500</td>\n",
       "      <td>375</td>\n",
       "      <td>['10.0', '96.0', '90.0', '58.0']</td>\n",
       "      <td>cow</td>\n",
       "      <td>5220.0</td>\n",
       "      <td>187500.0</td>\n",
       "      <td>0.027840</td>\n",
       "    </tr>\n",
       "    <tr>\n",
       "      <th>3</th>\n",
       "      <td>834.jpg</td>\n",
       "      <td>500</td>\n",
       "      <td>375</td>\n",
       "      <td>['69.0', '123.0', '108.0', '51.0']</td>\n",
       "      <td>cow</td>\n",
       "      <td>5508.0</td>\n",
       "      <td>187500.0</td>\n",
       "      <td>0.029376</td>\n",
       "    </tr>\n",
       "    <tr>\n",
       "      <th>4</th>\n",
       "      <td>834.jpg</td>\n",
       "      <td>500</td>\n",
       "      <td>375</td>\n",
       "      <td>['64.0', '95.0', '81.0', '26.0']</td>\n",
       "      <td>cow</td>\n",
       "      <td>2106.0</td>\n",
       "      <td>187500.0</td>\n",
       "      <td>0.011232</td>\n",
       "    </tr>\n",
       "  </tbody>\n",
       "</table>\n",
       "</div>"
      ],
      "text/plain": [
       "  image_id  width  height                                bbox source  \\\n",
       "0  834.jpg    500     375   ['304.0', '85.0', '65.0', '40.0']    cow   \n",
       "1  834.jpg    500     375   ['249.0', '72.0', '64.0', '30.0']    cow   \n",
       "2  834.jpg    500     375    ['10.0', '96.0', '90.0', '58.0']    cow   \n",
       "3  834.jpg    500     375  ['69.0', '123.0', '108.0', '51.0']    cow   \n",
       "4  834.jpg    500     375    ['64.0', '95.0', '81.0', '26.0']    cow   \n",
       "\n",
       "   bbox_area  image_area  bbox_ratio  \n",
       "0     2600.0    187500.0    0.013867  \n",
       "1     1920.0    187500.0    0.010240  \n",
       "2     5220.0    187500.0    0.027840  \n",
       "3     5508.0    187500.0    0.029376  \n",
       "4     2106.0    187500.0    0.011232  "
      ]
     },
     "execution_count": 30,
     "metadata": {},
     "output_type": "execute_result"
    }
   ],
   "source": [
    "train_csv[\"image_id\"] = train_csv[\"image_id\"].apply(lambda x: str(x) + \".jpg\")\n",
    "train_csv.head()"
   ]
  },
  {
   "cell_type": "code",
   "execution_count": null,
   "metadata": {},
   "outputs": [],
   "source": [
    "def skip_csv_header(file):\n",
    "    has_header = csv.Sniffer().has_header(file.read(1024))\n",
    "    file.seek(0)\n",
    "    if has_header:\n",
    "        next(file)\n",
    "\n",
    "\n",
    "def total_image_list(image_folder_path):\n",
    "    total_img_list = [os.path.basename(img_path_name) for img_path_name in glob.glob(os.path.join(image_folder_path, \"*.jpg\"))]\n",
    "    return total_img_list\n",
    "\n",
    "def draw_rect(img, bboxes, color=None):\n",
    "    img = img.copy()\n",
    "    bboxes = bboxes[:, :4]\n",
    "    bboxes = bboxes.reshape(-1, 4)\n",
    "    for bbox in bboxes:\n",
    "        pt1, pt2 = (bbox[0], bbox[1]), (bbox[2], bbox[3])\n",
    "        pt1 = int(pt1[0]), int(pt1[1])\n",
    "        pt2 = int(pt2[0]), int(pt2[1])\n",
    "        img = cv2.rectangle(img.copy(), pt1, pt2, color, int(max(img.shape[:2]) / 200))\n",
    "    return img\n",
    "\n",
    "def plot_multiple_img(img_matrix_list, title_list, ncols, main_title=\"\"):\n",
    "    fig, myaxes = plt.subplots(figsize=(20, 15), nrows=ceil(len(img_matrix_list) / ncols), ncols=ncols, squeeze=False)\n",
    "    fig.suptitle(main_title, fontsize = 30)\n",
    "    fig.subplots_adjust(wspace=0.3)\n",
    "    fig.subplots_adjust(hspace=0.3)\n",
    "    for i, (img, title) in enumerate(zip(img_matrix_list, title_list)):\n",
    "        myaxes[i // ncols][i % ncols].imshow(img)\n",
    "        myaxes[i // ncols][i % ncols].set_title(title, fontsize=15)\n",
    "    plt.show()"
   ]
  },
  {
   "cell_type": "code",
   "execution_count": null,
   "metadata": {},
   "outputs": [],
   "source": []
  },
  {
   "cell_type": "markdown",
   "metadata": {},
   "source": [
    "### 随机显示部分图像"
   ]
  },
  {
   "cell_type": "code",
   "execution_count": null,
   "metadata": {},
   "outputs": [],
   "source": [
    "image_folder_path = '/home/dreamer/workspace/RongWen/data/Processing/VOCdevkit/VOC2012/JPEGImages'\n",
    "\n",
    "def plot_random_images(image_folder_path, image_annotation_file, num = 12):\n",
    "    img_dict = {}\n",
    "    with open(image_annotation_file, \"r\") as file:\n",
    "        skip_csv_header(file)\n",
    "        for row in file:\n",
    "            try:\n",
    "                image_name, x_min, y_min, x_max, y_max, class_idx = row.split(\",\")\n",
    "                if image_name not in img_dict:\n",
    "                    img_dict[image_name] = list()\n",
    "                img_dict[image_name].append(\n",
    "                    [float(x_min), float(y_min), float(x_max), float(y_max), int(class_idx)]\n",
    "                )\n",
    "            except ValueError:\n",
    "                print(\"Could not convert float to string, likely that your data has empty values.\")\n",
    "\n",
    "    # randomly choose 12 images to plot\n",
    "    img_files_list = np.random.choice(list(img_dict.keys()), num)\n",
    "    print(\"The images' names are {}\".format(img_files_list))\n",
    "    img_matrix_list = []\n",
    "    \n",
    "    for img_file in img_files_list:\n",
    "        image_file_path = os.path.join(image_folder_path, img_file)\n",
    "        img = cv2.imread(image_file_path)[:,:,::-1]  \n",
    "        img_matrix_list.append(img)\n",
    "\n",
    "    \n",
    "    return plot_multiple_img(img_matrix_list, title_list = img_files_list, ncols = 4, main_title=\"Wheat Images\")\n",
    "\n",
    "plot_random_images(image_folder_path, path, num = 12)"
   ]
  },
  {
   "cell_type": "code",
   "execution_count": 8,
   "metadata": {},
   "outputs": [
    {
     "data": {
      "text/plain": [
       "1605680612_8946      8\n",
       "1605680612_7910      7\n",
       "1605680612_18018     7\n",
       "1605680594_180       6\n",
       "1605680612_180183    5\n",
       "1605680595_930       4\n",
       "1605680612_106963    4\n",
       "1605680612_106962    4\n",
       "1605680595_3451      4\n",
       "1605680612_89463     4\n",
       "1605680595_9301      4\n",
       "1605680612_180182    4\n",
       "1605680595_345       4\n",
       "1605680612_79103     4\n",
       "1605680608_120       3\n",
       "1605680608_1200      3\n",
       "1605680594_1801      3\n",
       "1605680608_390       3\n",
       "1605680608_3900      3\n",
       "1605680594_1800      3\n",
       "1605680612_79102     3\n",
       "1605680608_3750      3\n",
       "1605680608_375       3\n",
       "1605680741_303       2\n",
       "1605680741_750       2\n",
       "1605680741_480       2\n",
       "1605680741_2403      2\n",
       "1605680741_2703      2\n",
       "1605680612_106960    1\n",
       "1605680741_30        1\n",
       "1605680612_89460     1\n",
       "1605680612_79100     1\n",
       "Name: image_id, dtype: int64"
      ]
     },
     "execution_count": 8,
     "metadata": {},
     "output_type": "execute_result"
    }
   ],
   "source": [
    "import pandas as pd\n",
    "demo = '/home/dreamer/workspace/RongWen/scripts/rongwen20201117.csv'\n",
    "demo_csv = pd.read_csv(demo)\n",
    "demo_csv.image_id.value_counts()"
   ]
  },
  {
   "cell_type": "code",
   "execution_count": 11,
   "metadata": {},
   "outputs": [
    {
     "name": "stdout",
     "output_type": "stream",
     "text": [
      "           image_id  width  height                         bbox        source\n",
      "57  1605680612_8946   1908    1062   [224.0, 449.0, 52.0, 87.0]  traffic cone\n",
      "58  1605680612_8946   1908    1062  [1461.0, 854.0, 25.0, 37.0]  traffic cone\n",
      "59  1605680612_8946   1908    1062  [1635.0, 843.0, 21.0, 34.0]  traffic cone\n",
      "60  1605680612_8946   1908    1062  [1659.0, 831.0, 16.0, 31.0]  traffic cone\n",
      "61  1605680612_8946   1908    1062  [1574.0, 825.0, 60.0, 37.0]         fence\n",
      "62  1605680612_8946   1908    1062   [490.0, 627.0, 18.0, 26.0]  traffic cone\n",
      "63  1605680612_8946   1908    1062   [598.0, 625.0, 14.0, 18.0]  traffic cone\n",
      "64  1605680612_8946   1908    1062   [552.0, 610.0, 41.0, 25.0]         fence\n"
     ]
    }
   ],
   "source": [
    "print(demo_csv[demo_csv['image_id']=='1605680612_8946'])"
   ]
  },
  {
   "cell_type": "code",
   "execution_count": 20,
   "metadata": {},
   "outputs": [
    {
     "data": {
      "text/plain": [
       "['224.0', ' 449.0', ' 52.0', ' 87.0']"
      ]
     },
     "execution_count": 20,
     "metadata": {},
     "output_type": "execute_result"
    }
   ],
   "source": [
    "demo_csv[demo_csv['image_id']=='1605680612_8946']['bbox'][57][1:-1].split(',')"
   ]
  },
  {
   "cell_type": "code",
   "execution_count": 21,
   "metadata": {},
   "outputs": [
    {
     "name": "stdout",
     "output_type": "stream",
     "text": [
      "['224.0', ' 449.0', ' 52.0', ' 87.0']\n",
      "['1461.0', ' 854.0', ' 25.0', ' 37.0']\n",
      "['1635.0', ' 843.0', ' 21.0', ' 34.0']\n",
      "['1659.0', ' 831.0', ' 16.0', ' 31.0']\n",
      "['1574.0', ' 825.0', ' 60.0', ' 37.0']\n",
      "['490.0', ' 627.0', ' 18.0', ' 26.0']\n",
      "['598.0', ' 625.0', ' 14.0', ' 18.0']\n",
      "['552.0', ' 610.0', ' 41.0', ' 25.0']\n"
     ]
    }
   ],
   "source": [
    "for index in demo_csv[demo_csv['image_id']=='1605680612_8946']['bbox']:\n",
    "    print(index[1:-1].split(','))"
   ]
  },
  {
   "cell_type": "code",
   "execution_count": null,
   "metadata": {},
   "outputs": [],
   "source": []
  }
 ],
 "metadata": {
  "kernelspec": {
   "display_name": "Python [conda env:detectron2-pytorch1.5] *",
   "language": "python",
   "name": "conda-env-detectron2-pytorch1.5-py"
  },
  "language_info": {
   "codemirror_mode": {
    "name": "ipython",
    "version": 3
   },
   "file_extension": ".py",
   "mimetype": "text/x-python",
   "name": "python",
   "nbconvert_exporter": "python",
   "pygments_lexer": "ipython3",
   "version": "3.7.7"
  }
 },
 "nbformat": 4,
 "nbformat_minor": 4
}
